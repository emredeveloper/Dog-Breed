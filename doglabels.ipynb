{
 "cells": [
  {
   "cell_type": "code",
   "execution_count": 6,
   "id": "43a667c3-9ebe-45ce-9710-7b89e1e62d92",
   "metadata": {
    "is_executing": true
   },
   "outputs": [],
   "source": [
    "import pandas as pd\n",
    "from tensorflow.keras.preprocessing.image import ImageDataGenerator\n",
    "from tensorflow.keras.applications import MobileNetV2\n",
    "from tensorflow.keras.layers import Dense, GlobalAveragePooling2D\n",
    "from tensorflow.keras.models import Model\n",
    "from keras.optimizers import Adam\n",
    "from keras.callbacks import EarlyStopping\n",
    "from keras.layers import Conv2D, MaxPooling2D, Dense, Dropout, Flatten, Input\n",
    "from tensorflow.keras.utils import to_categorical\n",
    "from sklearn.model_selection import train_test_split"
   ]
  },
  {
   "cell_type": "code",
   "execution_count": 7,
   "id": "796fcf64-a9dc-46a4-a69b-5cd79590c903",
   "metadata": {},
   "outputs": [],
   "source": [
    "# Verileri yükle\n",
    "labels = pd.read_csv(\"dog-breed-identification/labels.csv\")\n",
    "\n",
    "# Dosya adlarına uzantı ekleyerek yeni bir sütun oluştur\n",
    "labels['file_path'] = labels['id'] + '.jpg'\n",
    "\n",
    "# Veri artırma işlemi\n",
    "datagen = ImageDataGenerator(rescale=1./255, validation_split=0.2)\n",
    "\n",
    "# Veri setini eğitim ve test olarak böl\n",
    "train_data, valid_data = train_test_split(labels, test_size=0.2, random_state=42)\n",
    "\n",
    "# Veri setindeki sınıf sayısını al\n",
    "num_classes = len(labels['breed'].unique())"
   ]
  },
  {
   "cell_type": "code",
   "execution_count": null,
   "id": "a3e8af63-2fd8-4974-9f89-830d9f48a86d",
   "metadata": {},
   "outputs": [],
   "source": []
  },
  {
   "cell_type": "code",
   "execution_count": 8,
   "id": "2d490378-e8b3-4cfd-923f-31ad2947a3b4",
   "metadata": {},
   "outputs": [
    {
     "name": "stdout",
     "output_type": "stream",
     "text": [
      "Found 6542 validated image filenames belonging to 120 classes.\n",
      "Found 409 validated image filenames belonging to 120 classes.\n"
     ]
    }
   ],
   "source": [
    "# train_generator ve valid_generator'daki class_mode 'sparse' olarak değiştirildi\n",
    "train_generator = datagen.flow_from_dataframe(\n",
    "    train_data,\n",
    "    directory=\"dog-breed-identification/train/\",\n",
    "    x_col=\"file_path\",\n",
    "    y_col=\"breed\",\n",
    "    subset=\"training\",\n",
    "    batch_size=32,\n",
    "    seed=42,\n",
    "    shuffle=True,\n",
    "    class_mode=\"sparse\",  # 'categorical' yerine 'sparse'\n",
    "    target_size=(224, 224)\n",
    ")\n",
    "\n",
    "valid_generator = datagen.flow_from_dataframe(\n",
    "    valid_data,\n",
    "    directory=\"dog-breed-identification/train/\",\n",
    "    x_col=\"file_path\",\n",
    "    y_col=\"breed\",\n",
    "    subset=\"validation\",\n",
    "    batch_size=32,\n",
    "    seed=42,\n",
    "    shuffle=True,\n",
    "    class_mode=\"sparse\",  # 'categorical' yerine 'sparse'\n",
    "    target_size=(224, 224)\n",
    ")"
   ]
  },
  {
   "cell_type": "code",
   "execution_count": 9,
   "id": "1075241c-628d-47bf-94e9-6d4dd44cab69",
   "metadata": {},
   "outputs": [
    {
     "name": "stdout",
     "output_type": "stream",
     "text": [
      "WARNING:tensorflow:`input_shape` is undefined or non-square, or `rows` is not in [96, 128, 160, 192, 224]. Weights for input shape (224, 224) will be loaded as the default.\n"
     ]
    }
   ],
   "source": [
    "# Giriş boyutları (örneğin, 224x224 piksel ve 3 renk kanalı için)\n",
    "input_shape = (224, 224, 3)\n",
    "\n",
    "# Input katmanını oluştur\n",
    "input_layer = Input(shape=input_shape)\n",
    "\n",
    "# Base model oluşturma\n",
    "base_model = MobileNetV2(weights='imagenet', include_top=False, input_tensor=input_layer)\n",
    "\n",
    "# Top model oluşturma\n",
    "x = base_model.output\n",
    "\n",
    "# Giriş boyutlarına uygun olarak Conv2D ve MaxPooling2D katmanları ekleyin\n",
    "x = Conv2D(256, (3, 3), activation='relu', padding='same')(x)\n",
    "x = MaxPooling2D((2, 2))(x)\n",
    "x = Conv2D(128, (3, 3), activation='relu', padding='same')(x)\n",
    "x = MaxPooling2D((2, 2))(x)\n",
    "\n",
    "# Geri kalan katmanlar\n",
    "x = Flatten()(x)\n",
    "x = Dense(256, activation='relu')(x)\n",
    "x = Dropout(0.5)(x)\n",
    "\n",
    "# Output katmanı\n",
    "predictions = Dense(num_classes, activation='softmax')(x)\n",
    "model = Model(inputs=base_model.input, outputs=x)\n"
   ]
  },
  {
   "cell_type": "code",
   "execution_count": null,
   "id": "79a98c3a-8899-46b1-a69f-37406932c5be",
   "metadata": {},
   "outputs": [
    {
     "name": "stdout",
     "output_type": "stream",
     "text": [
      "Epoch 1/50\n",
      "WARNING:tensorflow:From C:\\Users\\Cihat Emre Karataş\\Desktop\\dog-breed\\venv\\Lib\\site-packages\\keras\\src\\utils\\tf_utils.py:492: The name tf.ragged.RaggedTensorValue is deprecated. Please use tf.compat.v1.ragged.RaggedTensorValue instead.\n",
      "\n",
      "WARNING:tensorflow:From C:\\Users\\Cihat Emre Karataş\\Desktop\\dog-breed\\venv\\Lib\\site-packages\\keras\\src\\engine\\base_layer_utils.py:384: The name tf.executing_eagerly_outside_functions is deprecated. Please use tf.compat.v1.executing_eagerly_outside_functions instead.\n",
      "\n",
      "132/205 [==================>...........] - ETA: 2:42 - loss: 16.9598 - accuracy: 0.0078"
     ]
    }
   ],
   "source": [
    "# Modeli derleme, loss fonksiyonu 'sparse_categorical_crossentropy' olarak değiştirildi\n",
    "model.compile(optimizer=Adam(learning_rate=0.0001), loss='sparse_categorical_crossentropy', metrics=['accuracy'])\n",
    "\n",
    "# Early Stopping callback\n",
    "early_stop = EarlyStopping(monitor='val_loss', patience=5, restore_best_weights=True)\n",
    "\n",
    "# Modeli eğitme\n",
    "history = model.fit(\n",
    "    train_generator,\n",
    "    epochs=50,\n",
    "    validation_data=valid_generator,\n",
    "    callbacks=[early_stop]\n",
    ")"
   ]
  },
  {
   "cell_type": "code",
   "execution_count": null,
   "id": "b87a2a61-5576-482c-b762-c1dc55f2df19",
   "metadata": {},
   "outputs": [],
   "source": []
  }
 ],
 "metadata": {
  "kernelspec": {
   "display_name": "Python 3 (ipykernel)",
   "language": "python",
   "name": "python3"
  },
  "language_info": {
   "codemirror_mode": {
    "name": "ipython",
    "version": 3
   },
   "file_extension": ".py",
   "mimetype": "text/x-python",
   "name": "python",
   "nbconvert_exporter": "python",
   "pygments_lexer": "ipython3",
   "version": "3.11.4"
  }
 },
 "nbformat": 4,
 "nbformat_minor": 5
}
